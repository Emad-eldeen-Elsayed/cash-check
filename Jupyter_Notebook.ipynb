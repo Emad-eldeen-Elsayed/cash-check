{
  "metadata": {
    "kernelspec": {
      "name": "python",
      "display_name": "Pyolite",
      "language": "python"
    },
    "language_info": {
      "codemirror_mode": {
        "name": "ipython",
        "version": 3
      },
      "file_extension": ".py",
      "mimetype": "text/x-python",
      "name": "python",
      "nbconvert_exporter": "python",
      "pygments_lexer": "ipython3",
      "version": "3.7.6"
    }
  },
  "nbformat_minor": 4,
  "nbformat": 4,
  "cells": [
    {
      "cell_type": "markdown",
      "source": "# My Jupyter Notebook on IBM Watson Studio",
      "metadata": {}
    },
    {
      "cell_type": "markdown",
      "source": "**Emad Eldeen Elsayed Mohammed Ali Abd Elqader** \\\nData Scientist",
      "metadata": {}
    },
    {
      "cell_type": "markdown",
      "source": "_According to me, Data scientists are magicians and solution finders._",
      "metadata": {}
    },
    {
      "cell_type": "markdown",
      "source": "### Check balance of the cash in the company",
      "metadata": {}
    },
    {
      "cell_type": "code",
      "source": "actual_balance = 16\ndesired_minimum_balance = 15\nif actual_balance <= desired_minimum_balance:\n    print (\"We n\")\nelse:\n    print (\"This is good\")",
      "metadata": {
        "trusted": true
      },
      "execution_count": 7,
      "outputs": [
        {
          "name": "stdout",
          "text": "This is good\n",
          "output_type": "stream"
        }
      ]
    },
    {
      "cell_type": "code",
      "source": "",
      "metadata": {},
      "execution_count": null,
      "outputs": []
    },
    {
      "cell_type": "code",
      "source": "",
      "metadata": {},
      "execution_count": null,
      "outputs": []
    }
  ]
}